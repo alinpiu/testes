{
  "cells": [
    {
      "cell_type": "code",
      "execution_count": null,
      "metadata": {
        "id": "ZSVScRKSezL4"
      },
      "outputs": [],
      "source": [
        "import pandas as pd\n",
        "import numpy as np\n",
        "import re\n",
        "import csv\n",
        "import random\n",
        "import tensorflow as tf\n",
        "import tensorflow_hub as hub\n",
        "\n",
        "from numpy import array\n",
        "from tensorflow.keras.optimizers import SGD\n",
        "import tensorflow_datasets as tfds\n",
        "from __future__ import absolute_import, division, print_function, unicode_literals\n",
        "from tensorflow.keras.preprocessing.text import Tokenizer\n",
        "from tensorflow.keras.preprocessing.sequence import pad_sequences"
      ]
    },
    {
      "cell_type": "code",
      "execution_count": null,
      "metadata": {
        "colab": {
          "base_uri": "https://localhost:8080/"
        },
        "id": "h5hOqDQ8qLyM",
        "outputId": "e8e058a0-b2df-4732-abde-30b24115d3a6"
      },
      "outputs": [
        {
          "name": "stdout",
          "output_type": "stream",
          "text": [
            "Drive already mounted at /content/drive; to attempt to forcibly remount, call drive.mount(\"/content/drive\", force_remount=True).\n"
          ]
        }
      ],
      "source": [
        "from google.colab import drive\n",
        "drive.mount('/content/drive')"
      ]
    },
    {
      "cell_type": "code",
      "execution_count": null,
      "metadata": {
        "id": "3Uy1sEHLFBEg"
      },
      "outputs": [],
      "source": [
        "data = pd.read_csv('/content/drive/MyDrive/capstone/dataset_safe/data.csv', encoding='latin-1')\n",
        "alay_dict = pd.read_csv('/content/drive/MyDrive/capstone/dataset_safe/new_kamusalay.csv', encoding='latin-1', header=None)\n",
        "stopwords = pd.read_csv('/content/drive/MyDrive/capstone/dataset_safe/stopword.csv', encoding='latin-1')\n",
        "alay_dict = alay_dict.rename(columns={0: 'original', \n",
        "                                      1: 'replacement'})\n",
        "stopwords = stopwords.rename(columns={0: 'stopword'})"
      ]
    },
    {
      "cell_type": "code",
      "execution_count": null,
      "metadata": {
        "id": "kLjxe0RAUpKR"
      },
      "outputs": [],
      "source": [
        "EMBEDDING_DIM = 64\n",
        "MAXLEN = 300\n",
        "TRUNCATING = 'post'\n",
        "PADDING = 'post'\n",
        "OOV_TOKEN = \"<OOV>\""
      ]
    },
    {
      "cell_type": "code",
      "execution_count": null,
      "metadata": {
        "id": "kEUyxuIqGo79"
      },
      "outputs": [],
      "source": [
        "def lowercase(text):\n",
        "    return text.lower()\n",
        "\n",
        "def remove_unnecessary_char(text):\n",
        "    text = re.sub('\\n',' ',text) # Remove every '\\n'\n",
        "    text = re.sub('rt',' ',text) # Remove every retweet symbol\n",
        "    text = re.sub('user',' ',text) # Remove every username\n",
        "    text = re.sub('((www\\.[^\\s]+)|(https?://[^\\s]+)|(http?://[^\\s]+))',' ',text) # Remove every URL\n",
        "    text = re.sub('  +', ' ', text) # Remove extra spaces\n",
        "    text = re.sub(r\"\\d+\", \"\", text) # Remove number\n",
        "    text = text.encode('ascii', 'replace').decode('ascii') # Remove non ASCII\n",
        "    text = ' '.join(re.sub(\"([@#][A-Za-z0-9]+)|(\\w+:\\/\\/\\S+)\",\" \", text).split()) #Remove hastag, mention\n",
        "    return text\n",
        "\n",
        "def remove_nonaplhanumeric(text):\n",
        "    text = re.sub('[^0-9a-zA-Z]+', ' ', text) \n",
        "    return text\n",
        "\n",
        "def normalize_alay(text):\n",
        "    return ' '.join([alay_dict_map[word] if word in alay_dict_map else word for word in text.split(' ')])\n",
        "\n",
        "def remove_stopword(text):\n",
        "    text = ' '.join(['' if word in stopwords.stopword.values else word for word in text.split(' ')])\n",
        "    text = re.sub('  +', ' ', text) # Remove extra spaces\n",
        "    text = text.strip()\n",
        "    return text\n",
        "\n",
        "def preprocess(text):\n",
        "    text = lowercase(text) # 1\n",
        "    text = remove_nonaplhanumeric(text) # 2\n",
        "    text = remove_unnecessary_char(text) # 3\n",
        "    text = normalize_alay(text) # 4\n",
        "    text = remove_stopword(text) # 5\n",
        "    return text"
      ]
    },
    {
      "cell_type": "code",
      "execution_count": null,
      "metadata": {
        "id": "0VdDyA3vPqT2"
      },
      "outputs": [],
      "source": [
        "alay_dict_map = dict(zip(alay_dict['original'], alay_dict['replacement']))"
      ]
    },
    {
      "cell_type": "code",
      "execution_count": null,
      "metadata": {
        "id": "aOsOZym5QnEn"
      },
      "outputs": [],
      "source": [
        "data = data[['Tweet', 'HS']]\n",
        "data['Tweet'] = data['Tweet'].apply(preprocess)"
      ]
    },
    {
      "cell_type": "code",
      "execution_count": null,
      "metadata": {
        "id": "p9La6XYaiuk_"
      },
      "outputs": [],
      "source": [
        "train_size = 10000\n",
        "sentences = data['Tweet']\n",
        "labels = data['HS']\n",
        "    \n",
        "train_sentences = sentences[:train_size]\n",
        "train_labels = labels[:train_size]\n",
        "\n",
        "val_sentences = sentences[train_size:]\n",
        "val_labels = labels[train_size:]"
      ]
    },
    {
      "cell_type": "code",
      "execution_count": null,
      "metadata": {
        "id": "UQugyT5YS-iW"
      },
      "outputs": [],
      "source": [
        "def fit_tokenizer(sentences, oov_token):\n",
        "    tokenizer = Tokenizer(oov_token=oov_token)\n",
        "    tokenizer.fit_on_texts(sentences)\n",
        "    return tokenizer"
      ]
    },
    {
      "cell_type": "code",
      "execution_count": null,
      "metadata": {
        "id": "qJ7Om4_tTDtj"
      },
      "outputs": [],
      "source": [
        "tokenizer = fit_tokenizer(train_sentences, OOV_TOKEN)\n",
        "word_index = tokenizer.word_index\n",
        "VOCAB_SIZE = len(tokenizer.word_index)"
      ]
    },
    {
      "cell_type": "code",
      "execution_count": null,
      "metadata": {
        "id": "1Er-K7pPTNlf"
      },
      "outputs": [],
      "source": [
        "def seq_pad_and_trunc(sentences, tokenizer, padding, truncating, maxlen):\n",
        "    sequences = tokenizer.texts_to_sequences(sentences)\n",
        "    pad_trunc_sequences = pad_sequences(sequences, maxlen=maxlen, padding=padding, truncating=truncating)\n",
        "    return pad_trunc_sequences"
      ]
    },
    {
      "cell_type": "code",
      "execution_count": null,
      "metadata": {
        "id": "IklXgukuTX7B"
      },
      "outputs": [],
      "source": [
        "sentences_train_pad_trunc_seq = seq_pad_and_trunc(train_sentences, tokenizer, PADDING, TRUNCATING, MAXLEN)\n",
        "sentences_val_pad_trunc_seq = seq_pad_and_trunc(val_sentences, tokenizer, PADDING, TRUNCATING, MAXLEN)"
      ]
    },
    {
      "cell_type": "code",
      "execution_count": null,
      "metadata": {
        "id": "4bw-6WwNTfib"
      },
      "outputs": [],
      "source": [
        "# training_padded = np.array(sentences_train_pad_trunc_seq).astype('float32').reshape((-1,1))\n",
        "training_padded = np.array(sentences_train_pad_trunc_seq)\n",
        "training_labels = np.array(train_labels)\n",
        "testing_padded = np.array(sentences_val_pad_trunc_seq)\n",
        "testing_labels = np.array(val_labels)"
      ]
    },
    {
      "cell_type": "code",
      "execution_count": null,
      "metadata": {
        "colab": {
          "base_uri": "https://localhost:8080/"
        },
        "id": "Y5lvnUkDZK5q",
        "outputId": "5225d854-0065-4fd7-db3c-c1d1ce60248e"
      },
      "outputs": [
        {
          "name": "stdout",
          "output_type": "stream",
          "text": [
            "Total words 16574\n"
          ]
        }
      ],
      "source": [
        "print(\"Total words\", VOCAB_SIZE)"
      ]
    },
    {
      "cell_type": "code",
      "execution_count": null,
      "metadata": {
        "id": "1tyVqaU_p3CX"
      },
      "outputs": [],
      "source": [
        "EMBEDDINGS_MATRIX = np.zeros((VOCAB_SIZE+1, EMBEDDING_DIM))"
      ]
    },
    {
      "cell_type": "code",
      "execution_count": null,
      "metadata": {
        "colab": {
          "base_uri": "https://localhost:8080/"
        },
        "id": "gqNH2mme5L6D",
        "outputId": "b85019e8-8a84-473c-a808-fd3778ecf01d"
      },
      "outputs": [
        {
          "name": "stdout",
          "output_type": "stream",
          "text": [
            "Model: \"sequential_3\"\n",
            "_________________________________________________________________\n",
            " Layer (type)                Output Shape              Param #   \n",
            "=================================================================\n",
            " embedding_3 (Embedding)     (None, 300, 64)           1060800   \n",
            "                                                                 \n",
            " bidirectional (Bidirectiona  (None, 300, 128)         66048     \n",
            " l)                                                              \n",
            "                                                                 \n",
            " bidirectional_1 (Bidirectio  (None, 64)               41216     \n",
            " nal)                                                            \n",
            "                                                                 \n",
            " dense_8 (Dense)             (None, 1)                 65        \n",
            "                                                                 \n",
            "=================================================================\n",
            "Total params: 1,168,129\n",
            "Trainable params: 1,168,129\n",
            "Non-trainable params: 0\n",
            "_________________________________________________________________\n"
          ]
        }
      ],
      "source": [
        "# from keras.layers.pooling import GlobalAveragePooling1D\n",
        "# model = tf.keras.Sequential([ \n",
        "        \n",
        "#         tf.keras.layers.Embedding(VOCAB_SIZE+1, EMBEDDING_DIM, input_length=MAXLEN),\n",
        "#         # tf.keras.layers.GlobalAveragePooling1D(),\n",
        "#         # tf.keras.layers.Dense(64, activation='relu'),\n",
        "#         # tf.keras.layers.Dropout(0.5),\n",
        "#         # tf.keras.layers.Dense(1, activation='sigmoid')\n",
        "#         tf.keras.layers.LSTM(64, dropout=0.1),\n",
        "#         tf.keras.layers.Dense(128, activation='relu'),\n",
        "#         tf.keras.layers.Dense(64, activation='relu'),\n",
        "#         tf.keras.layers.Dense(1, activation='sigmoid')\n",
        "#     ])\n",
        "# model.summary()\n",
        "\n",
        "# Embedding layers\n",
        "from keras.models import Sequential\n",
        "from keras.layers import Activation, Dense, Dropout, Embedding, Flatten, Conv1D, MaxPooling1D, LSTM, Bidirectional\n",
        "from keras import utils\n",
        "from keras.callbacks import ReduceLROnPlateau\n",
        "\n",
        "embedding_layer = Embedding(VOCAB_SIZE+1, EMBEDDING_DIM, weights=[EMBEDDINGS_MATRIX], input_length=MAXLEN)\n",
        "model = Sequential()\n",
        "model.add(embedding_layer)\n",
        "model.add(Bidirectional(LSTM(units=64, recurrent_dropout = 0.3, dropout = 0.3, return_sequences = True)))\n",
        "model.add(Bidirectional(LSTM(units=32, recurrent_dropout = 0.1, dropout = 0.1)))\n",
        "model.add(Dense(1, activation='sigmoid'))\n",
        "model.summary()"
      ]
    },
    {
      "cell_type": "code",
      "execution_count": null,
      "metadata": {
        "colab": {
          "background_save": true,
          "base_uri": "https://localhost:8080/"
        },
        "id": "wzCBPIAvNqo6",
        "outputId": "945159e9-0c4a-46e4-f692-191c1a259dec"
      },
      "outputs": [
        {
          "name": "stdout",
          "output_type": "stream",
          "text": [
            "Epoch 1/50\n"
          ]
        },
        {
          "name": "stderr",
          "output_type": "stream",
          "text": [
            "/usr/local/lib/python3.7/dist-packages/keras/optimizer_v2/gradient_descent.py:102: UserWarning: The `lr` argument is deprecated, use `learning_rate` instead.\n",
            "  super(SGD, self).__init__(name, **kwargs)\n"
          ]
        },
        {
          "name": "stdout",
          "output_type": "stream",
          "text": [
            "313/313 [==============================] - 504s 2s/step - loss: 0.6928 - accuracy: 0.5763 - val_loss: 0.6925 - val_accuracy: 0.5822\n",
            "Epoch 2/50\n",
            " 14/313 [>.............................] - ETA: 7:35 - loss: 0.6922 - accuracy: 0.6049"
          ]
        }
      ],
      "source": [
        "opt = SGD(lr=0.00001, momentum=0.9)\n",
        "model.compile(loss='binary_crossentropy', optimizer=opt, metrics=['accuracy'])\n",
        "\n",
        "# Train the model and save the training history\n",
        "history = model.fit(training_padded, training_labels, epochs=50, validation_data=(testing_padded, testing_labels))"
      ]
    },
    {
      "cell_type": "code",
      "execution_count": null,
      "metadata": {
        "colab": {
          "base_uri": "https://localhost:8080/"
        },
        "id": "g1hI2YusuJnI",
        "outputId": "89bbe4b7-83ec-4b27-9358-ddeb3889e589"
      },
      "outputs": [
        {
          "name": "stdout",
          "output_type": "stream",
          "text": [
            "100/100 [==============================] - 0s 2ms/step - loss: 0.6806 - accuracy: 0.5822\n"
          ]
        }
      ],
      "source": [
        "prediksi = loss, accuracy=model.evaluate(testing_padded, testing_labels)"
      ]
    },
    {
      "cell_type": "code",
      "execution_count": null,
      "metadata": {
        "id": "u3i7A3bgv_uQ"
      },
      "outputs": [],
      "source": [
        "#Predict\n",
        "def decode(score):\n",
        "  if (score < 0.0):\n",
        "    return \"NEGATIVE\"\n",
        "  if (score == 0.0):\n",
        "    return \"NETRAL\"\n",
        "  else:\n",
        "    return \"POSITIF\"\n",
        "\n",
        "def predict(text):\n",
        " test = pad_sequences(tokenizer1.texts_to_sequences([text]), maxlen=MAXLEN)\n",
        " score = model.predict(test)\n",
        " label = decode(score)\n",
        " return {\"label\": label, \"score\": (score)}"
      ]
    },
    {
      "cell_type": "code",
      "execution_count": null,
      "metadata": {
        "colab": {
          "base_uri": "https://localhost:8080/"
        },
        "id": "rwtnKRVqyZ4z",
        "outputId": "9aca0615-1736-4fab-9315-c41f9ff06063"
      },
      "outputs": [
        {
          "data": {
            "text/plain": [
              "{'label': 'POSITIF', 'score': array([[0.37247175]], dtype=float32)}"
            ]
          },
          "execution_count": 61,
          "metadata": {},
          "output_type": "execute_result"
        }
      ],
      "source": [
        "predict(\"\"\"Cabe-cabean, orang bilang cewek kampungan\n",
        "Cabe-cabean, sukanya kelayapan\n",
        "Cabe-cabean, orang bilang cewek kampungan\n",
        "Cabe-cabean, nongkrong-nongkrong di jalan\"\"\")"
      ]
    },
    {
      "cell_type": "code",
      "execution_count": null,
      "metadata": {
        "id": "_0lTlxYDzl9u"
      },
      "outputs": [],
      "source": [
        "def encode(x):\n",
        "  x = tokenizer1.texts_to_sequences(x)\n",
        "  x = pad_sequences(x, maxlen=MAXLEN, padding='post')\n",
        "  return x"
      ]
    },
    {
      "cell_type": "code",
      "execution_count": null,
      "metadata": {
        "id": "wLe5uGWR5k3T"
      },
      "outputs": [],
      "source": [
        "x = \"kasar\"\n",
        "x = encode(x)"
      ]
    },
    {
      "cell_type": "code",
      "execution_count": null,
      "metadata": {
        "colab": {
          "base_uri": "https://localhost:8080/"
        },
        "id": "HGlXZ3Mc5tjk",
        "outputId": "f5bec9ed-bdcf-4eb4-f9f7-7903a0592a17"
      },
      "outputs": [
        {
          "data": {
            "text/plain": [
              "array([[0.37113756],\n",
              "       [0.37113756],\n",
              "       [0.37113753],\n",
              "       [0.37113756],\n",
              "       [0.37113756]], dtype=float32)"
            ]
          },
          "execution_count": 55,
          "metadata": {},
          "output_type": "execute_result"
        }
      ],
      "source": [
        "model.predict(x)"
      ]
    }
  ],
  "metadata": {
    "colab": {
      "collapsed_sections": [],
      "name": "sentimen.ipynb",
      "provenance": []
    },
    "kernelspec": {
      "display_name": "Python 3",
      "name": "python3"
    },
    "language_info": {
      "name": "python"
    }
  },
  "nbformat": 4,
  "nbformat_minor": 0
}